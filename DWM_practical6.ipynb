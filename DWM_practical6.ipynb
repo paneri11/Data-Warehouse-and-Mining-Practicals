{
  "nbformat": 4,
  "nbformat_minor": 0,
  "metadata": {
    "colab": {
      "provenance": []
    },
    "kernelspec": {
      "name": "python3",
      "display_name": "Python 3"
    },
    "language_info": {
      "name": "python"
    }
  },
  "cells": [
    {
      "cell_type": "code",
      "source": [
        "import pandas as pd\n",
        "import numpy as np"
      ],
      "metadata": {
        "id": "CAV5u3BBdgZ_"
      },
      "execution_count": null,
      "outputs": []
    },
    {
      "cell_type": "code",
      "execution_count": null,
      "metadata": {
        "id": "GpnBIIjocHzN"
      },
      "outputs": [],
      "source": [
        "data = {\n",
        "    'ID' : [1, 2, 3, 4, 5, 6],\n",
        "    'Name' : ['Paneri', 'Ankita', 'Shreya', 'Aditya', 'Arya', 'Anvesh'],\n",
        "    'Age' : [21, 20, 20, 20, 20, 21],\n",
        "    'State' : ['Maharastra', 'Andhra Pradesh', 'Madhya Pradesh', 'Maharashtra', 'Maharashtra', 'Uttar Pradesh'],\n",
        "    'Sales' : [11000, 70000, 30000, 25000, 10000, 10100]\n",
        "}"
      ]
    },
    {
      "cell_type": "code",
      "source": [
        "df = pd.DataFrame(data)\n",
        "print(\"Original Dataset:\")\n",
        "print(df)"
      ],
      "metadata": {
        "colab": {
          "base_uri": "https://localhost:8080/"
        },
        "id": "ZSSISKtadGQI",
        "outputId": "f2d98996-64e5-4737-b1a5-93e3d2dbde28"
      },
      "execution_count": null,
      "outputs": [
        {
          "output_type": "stream",
          "name": "stdout",
          "text": [
            "Original Dataset:\n",
            "   ID    Name  Age           State  Sales\n",
            "0   1  Paneri   21      Maharastra  11000\n",
            "1   2  Ankita   20  Andhra Pradesh  70000\n",
            "2   3  Shreya   20  Madhya Pradesh  30000\n",
            "3   4  Aditya   20     Maharashtra  25000\n",
            "4   5    Arya   20     Maharashtra  10000\n",
            "5   6  Anvesh   21   Uttar Pradesh  10100\n"
          ]
        }
      ]
    },
    {
      "cell_type": "code",
      "source": [
        "#character map\n",
        "df['Name_Upper'] = df['Name'].str.upper()\n",
        "print(\"\\nCharacter Map (Uppercase Names):\")\n",
        "print(df[['ID', 'Name', 'Name_Upper']])"
      ],
      "metadata": {
        "colab": {
          "base_uri": "https://localhost:8080/"
        },
        "id": "-BAGgdCyd0BP",
        "outputId": "e8a22e62-fc4d-40da-8ebe-3ae31734f94b"
      },
      "execution_count": null,
      "outputs": [
        {
          "output_type": "stream",
          "name": "stdout",
          "text": [
            "\n",
            "Character Map (Uppercase Names):\n",
            "   ID    Name Name_Upper\n",
            "0   1  Paneri     PANERI\n",
            "1   2  Ankita     ANKITA\n",
            "2   3  Shreya     SHREYA\n",
            "3   4  Aditya     ADITYA\n",
            "4   5    Arya       ARYA\n",
            "5   6  Anvesh     ANVESH\n"
          ]
        }
      ]
    },
    {
      "cell_type": "code",
      "source": [
        "#Multicast : create 2 copies of the dataset\n",
        "df_copy1 = df.copy()\n",
        "df_copy2 = df.copy()\n",
        "\n",
        "#transformations on each copy\n",
        "df_copy1['Sales'] *= 1.1 #increase sales by 10%\n",
        "df_copy2['Age'] += 5 #increase age by 5 years\n",
        "print(\"\\nMulticast (Modified Copies):\")\n",
        "print(\"Copy 1 (Sales Increased): \")\n",
        "print(df_copy1)\n",
        "print(\"\\nCopy 2 (Age Increased): \")\n",
        "print(df_copy2)"
      ],
      "metadata": {
        "colab": {
          "base_uri": "https://localhost:8080/"
        },
        "id": "4Aat6RdeeYyA",
        "outputId": "1fcc5a38-d1ed-45a9-9967-f51515d9ae66"
      },
      "execution_count": null,
      "outputs": [
        {
          "output_type": "stream",
          "name": "stdout",
          "text": [
            "\n",
            "Multicast (Modified Copies):\n",
            "Copy 1 (Sales Increased): \n",
            "   ID    Name  Age           State    Sales Name_Upper\n",
            "0   1  Paneri   21      Maharastra  12100.0     PANERI\n",
            "1   2  Ankita   20  Andhra Pradesh  77000.0     ANKITA\n",
            "2   3  Shreya   20  Madhya Pradesh  33000.0     SHREYA\n",
            "3   4  Aditya   20     Maharashtra  27500.0     ADITYA\n",
            "4   5    Arya   20     Maharashtra  11000.0       ARYA\n",
            "5   6  Anvesh   21   Uttar Pradesh  11110.0     ANVESH\n",
            "\n",
            "Copy 2 (Age Increased): \n",
            "   ID    Name  Age           State  Sales Name_Upper\n",
            "0   1  Paneri   26      Maharastra  11000     PANERI\n",
            "1   2  Ankita   25  Andhra Pradesh  70000     ANKITA\n",
            "2   3  Shreya   25  Madhya Pradesh  30000     SHREYA\n",
            "3   4  Aditya   25     Maharashtra  25000     ADITYA\n",
            "4   5    Arya   25     Maharashtra  10000       ARYA\n",
            "5   6  Anvesh   26   Uttar Pradesh  10100     ANVESH\n"
          ]
        }
      ]
    },
    {
      "cell_type": "code",
      "source": [
        "#conditional split: sales > 300\n",
        "high_sales = df[df['Sales'] > 30000]\n",
        "low_sales = df[df['Sales'] <= 30000]\n",
        "print(\"\\nConditional Split:\")\n",
        "print(\"High Sales\")\n",
        "print(high_sales)\n",
        "print(\"\\nLow Sales\")\n",
        "print(low_sales)"
      ],
      "metadata": {
        "colab": {
          "base_uri": "https://localhost:8080/"
        },
        "id": "iQt-VVNnf0ji",
        "outputId": "b3c77834-2c46-4b49-8539-9380cee9b8b9"
      },
      "execution_count": null,
      "outputs": [
        {
          "output_type": "stream",
          "name": "stdout",
          "text": [
            "\n",
            "Conditional Split:\n",
            "High Sales\n",
            "   ID    Name  Age           State  Sales Name_Upper\n",
            "1   2  Ankita   20  Andhra Pradesh  70000     ANKITA\n",
            "\n",
            "Low Sales\n",
            "   ID    Name  Age           State  Sales Name_Upper\n",
            "0   1  Paneri   21      Maharastra  11000     PANERI\n",
            "2   3  Shreya   20  Madhya Pradesh  30000     SHREYA\n",
            "3   4  Aditya   20     Maharashtra  25000     ADITYA\n",
            "4   5    Arya   20     Maharashtra  10000       ARYA\n",
            "5   6  Anvesh   21   Uttar Pradesh  10100     ANVESH\n"
          ]
        }
      ]
    },
    {
      "cell_type": "code",
      "source": [
        "#aggregation: total sales by country\n",
        "agg_df = df.groupby('State')['Sales'].sum().reset_index()\n",
        "print(\"\\nAggregation (Total Sales by State):\")\n",
        "print(agg_df)"
      ],
      "metadata": {
        "colab": {
          "base_uri": "https://localhost:8080/"
        },
        "id": "pujcruTrhQrf",
        "outputId": "af0476bb-7125-447c-93f2-b647ec926095"
      },
      "execution_count": null,
      "outputs": [
        {
          "output_type": "stream",
          "name": "stdout",
          "text": [
            "\n",
            "Aggregation (Total Sales by State):\n",
            "            State  Sales\n",
            "0  Andhra Pradesh  70000\n",
            "1  Madhya Pradesh  30000\n",
            "2     Maharashtra  35000\n",
            "3      Maharastra  11000\n",
            "4   Uttar Pradesh  10100\n"
          ]
        }
      ]
    },
    {
      "cell_type": "code",
      "source": [
        "#sort: sort by sales in descending order\n",
        "sorted_df = df.sort_values(by='Sales', ascending=False)\n",
        "print(\"\\nSort (Descending Sales): \")\n",
        "print(sorted_df)"
      ],
      "metadata": {
        "colab": {
          "base_uri": "https://localhost:8080/"
        },
        "id": "elAzMk3qmt_q",
        "outputId": "b344f4fe-4d79-4651-e63a-0fcd410e7570"
      },
      "execution_count": null,
      "outputs": [
        {
          "output_type": "stream",
          "name": "stdout",
          "text": [
            "\n",
            "Sort (Descending Sales): \n",
            "   ID    Name  Age           State  Sales Name_Upper\n",
            "1   2  Ankita   20  Andhra Pradesh  70000     ANKITA\n",
            "2   3  Shreya   20  Madhya Pradesh  30000     SHREYA\n",
            "3   4  Aditya   20     Maharashtra  25000     ADITYA\n",
            "0   1  Paneri   21      Maharastra  11000     PANERI\n",
            "5   6  Anvesh   21   Uttar Pradesh  10100     ANVESH\n",
            "4   5    Arya   20     Maharashtra  10000       ARYA\n"
          ]
        }
      ]
    },
    {
      "cell_type": "code",
      "source": [
        "#derived column: categorize sales as high or low\n",
        "df['Sales_Category'] = df['Sales'].apply(lambda x: 'High' if x>30000 else 'Low')\n",
        "print(\"\\nDerived Column (Sales Category):\")\n",
        "print(df[['ID', 'Name', 'Sales', 'Sales_Category']])"
      ],
      "metadata": {
        "colab": {
          "base_uri": "https://localhost:8080/"
        },
        "id": "-HNdW6DjofEa",
        "outputId": "7376f498-ea17-4850-8902-4ac2438504f2"
      },
      "execution_count": null,
      "outputs": [
        {
          "output_type": "stream",
          "name": "stdout",
          "text": [
            "\n",
            "Derived Column (Sales Category):\n",
            "   ID    Name  Sales Sales_Category\n",
            "0   1  Paneri  11000            Low\n",
            "1   2  Ankita  70000           High\n",
            "2   3  Shreya  30000            Low\n",
            "3   4  Aditya  25000            Low\n",
            "4   5    Arya  10000            Low\n",
            "5   6  Anvesh  10100            Low\n"
          ]
        }
      ]
    }
  ]
}